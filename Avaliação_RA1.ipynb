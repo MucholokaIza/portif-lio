{
  "nbformat": 4,
  "nbformat_minor": 0,
  "metadata": {
    "colab": {
      "provenance": [],
      "authorship_tag": "ABX9TyMnEw47ahYyexxquFRIG8wS",
      "include_colab_link": true
    },
    "kernelspec": {
      "name": "python3",
      "display_name": "Python 3"
    },
    "language_info": {
      "name": "python"
    }
  },
  "cells": [
    {
      "cell_type": "markdown",
      "metadata": {
        "id": "view-in-github",
        "colab_type": "text"
      },
      "source": [
        "<a href=\"https://colab.research.google.com/github/izabelly-code/portif-lio/blob/main/Avalia%C3%A7%C3%A3o_RA1.ipynb\" target=\"_parent\"><img src=\"https://colab.research.google.com/assets/colab-badge.svg\" alt=\"Open In Colab\"/></a>"
      ]
    },
    {
      "cell_type": "markdown",
      "source": [
        "Instruções:\n",
        "Para a realização desta tarefa você precisa fazer uma cópia deste carderno de questões para a sua conta. Você responderá a questão colando no AVA o link para a sua cópia contendo as suas respostas.\n",
        "\n",
        "Todas as questões precisam ser resolvidas algébrica e computacionalmente. Usando todos os recursos computacionais disponíveis na internet. Mas, você não pode consultar outros seres humanos.\n",
        "\n",
        "Não se equeça de Preencher seu nome nesta célula:\n",
        "\n",
        "Nome :Izabelly Mucholowski Ribeiro"
      ],
      "metadata": {
        "id": "7iyYjuLZ4Mw1"
      }
    },
    {
      "cell_type": "markdown",
      "source": [
        "\n",
        "Questão 1:\n",
        "O valor de um computador deprecia exponencialmente com o tempo. Seu valor inicial é de R$ 4.000, e a taxa de depreciação anual é de 20%. Qual será o valor do computador após 5 anos? Use a fórmula:\n",
        "\n",
        "V(t)=V0⋅(1−r)t\n",
        "\n",
        "onde V0 é o valor inicial, r é a taxa de depreciação e t é o tempo em anos. Não se esqueça de traçar um gráfico mostrando o o valor do bem depreciado, ano a ano, nos próximos 15 anos.\n",
        "\n",
        "\n",
        "\n",
        "[ ]\n",
        "\n"
      ],
      "metadata": {
        "id": "TDzh4qtN4Hq2"
      }
    },
    {
      "cell_type": "code",
      "source": [
        "import matplotlib.pyplot as plt\n",
        "import numpy as np\n",
        "from IPython.display import display, Math\n",
        "from sympy import *\n"
      ],
      "metadata": {
        "id": "xMstiSuH5u1n"
      },
      "execution_count": 77,
      "outputs": []
    },
    {
      "cell_type": "code",
      "source": [
        "x= np.linspace(0, 15,16)\n",
        "y =4000*(1 -0.2)**x \n",
        "resu= 4000*(1 -0.2)**5   \n",
        "saida = f'O\\space valor \\space do \\space computador\\space após\\space 5\\space anos \\space será \\space de : {resu:.2f}'\n",
        "display(Math(saida))      \n",
        "plt.plot(x, y, linestyle='-', color='red')\n",
        "plt.xlim(-1, 17)\n",
        "plt.show()\n"
      ],
      "metadata": {
        "colab": {
          "base_uri": "https://localhost:8080/",
          "height": 287
        },
        "id": "UaETxkLH4v7F",
        "outputId": "cee376a0-2b4e-4651-9208-9267b3a86ef9"
      },
      "execution_count": 28,
      "outputs": [
        {
          "output_type": "display_data",
          "data": {
            "text/plain": [
              "<IPython.core.display.Math object>"
            ],
            "text/latex": "$\\displaystyle O\\space valor \\space do \\space computador\\space após\\space 5\\space anos \\space será \\space de : 1310.72$"
          },
          "metadata": {}
        },
        {
          "output_type": "display_data",
          "data": {
            "text/plain": [
              "<Figure size 432x288 with 1 Axes>"
            ],
            "image/png": "[encoded data removed]"
          },
          "metadata": {
            "needs_background": "light"
          }
        }
      ]
    },
    {
      "cell_type": "markdown",
      "source": [
        "Questão 2\n",
        "Usando, a seu critério, as bibliotecas do Python, crie um gráfico para cada uma das funções a seguir. No label do gráfico deverá estar a função impressa com qualidade matemática (latex) e uma label dizendo se a função é crescente ou decrescente.\n",
        "\n",
        "3x−1−2x=7\n",
        "\n",
        "log5(2x+1)+log5(x−2)=2"
      ],
      "metadata": {
        "id": "Hhz40K664odZ"
      }
    },
    {
      "cell_type": "code",
      "source": [
        "x=np.linspace(-1, 10, 100)\n",
        "função_1=3**(x-1) - 2**x \n",
        "plt.plot(x, função_1, label=f\"Função\" ,linestyle='-', color='red')\n",
        "plt.ylim(-4, 20)\n",
        "\n",
        "plt.show()\n"
      ],
      "metadata": {
        "colab": {
          "base_uri": "https://localhost:8080/",
          "height": 269
        },
        "id": "miYZPnSXBnmG",
        "outputId": "7c8c733d-1166-45b7-b45a-f85088299c6d"
      },
      "execution_count": 115,
      "outputs": [
        {
          "output_type": "display_data",
          "data": {
            "text/plain": [
              "<Figure size 432x288 with 1 Axes>"
            ],
            "image/png": "[encoded data removed]"
          },
          "metadata": {
            "needs_background": "light"
          }
        }
      ]
    },
    {
      "cell_type": "code",
      "source": [
        "x=np.linspace(3,10,256,endpoint = True)\n",
        "\n",
        "#função_2=np.log(2*x + 1,5) + np.log(x - 2,5) -2\n",
        "#print(função_2)\n",
        "#plt.plot(x, função_2, '-b' label=r'$\\log_5(2x + 1) + \\log_5(x - 2) = 2$' ,linestyle='-', color='red')\n",
        "plt.show()"
      ],
      "metadata": {
        "colab": {
          "base_uri": "https://localhost:8080/",
          "height": 235
        },
        "id": "2Nx7LntDGHRs",
        "outputId": "5b11a5d8-087a-474e-de6f-17f5cb510ee4"
      },
      "execution_count": 120,
      "outputs": [
        {
          "output_type": "error",
          "ename": "TypeError",
          "evalue": "ignored",
          "traceback": [
            "\u001b[0;31m---------------------------------------------------------------------------\u001b[0m",
            "\u001b[0;31mTypeError\u001b[0m                                 Traceback (most recent call last)",
            "\u001b[0;32m<ipython-input-120-e0a6c6875e09>\u001b[0m in \u001b[0;36m<module>\u001b[0;34m\u001b[0m\n\u001b[1;32m      1\u001b[0m \u001b[0mx\u001b[0m\u001b[0;34m=\u001b[0m\u001b[0mnp\u001b[0m\u001b[0;34m.\u001b[0m\u001b[0mlinspace\u001b[0m\u001b[0;34m(\u001b[0m\u001b[0;36m3\u001b[0m\u001b[0;34m,\u001b[0m\u001b[0;36m10\u001b[0m\u001b[0;34m,\u001b[0m\u001b[0;36m256\u001b[0m\u001b[0;34m,\u001b[0m\u001b[0mendpoint\u001b[0m \u001b[0;34m=\u001b[0m \u001b[0;32mTrue\u001b[0m\u001b[0;34m)\u001b[0m\u001b[0;34m\u001b[0m\u001b[0;34m\u001b[0m\u001b[0m\n\u001b[1;32m      2\u001b[0m \u001b[0;34m\u001b[0m\u001b[0m\n\u001b[0;32m----> 3\u001b[0;31m \u001b[0mfunção_2\u001b[0m\u001b[0;34m=\u001b[0m\u001b[0mnp\u001b[0m\u001b[0;34m.\u001b[0m\u001b[0mlog\u001b[0m\u001b[0;34m(\u001b[0m\u001b[0;36m2\u001b[0m\u001b[0;34m*\u001b[0m\u001b[0mx\u001b[0m \u001b[0;34m+\u001b[0m \u001b[0;36m1\u001b[0m\u001b[0;34m,\u001b[0m\u001b[0;36m5\u001b[0m\u001b[0;34m)\u001b[0m \u001b[0;34m+\u001b[0m \u001b[0mnp\u001b[0m\u001b[0;34m.\u001b[0m\u001b[0mlog\u001b[0m\u001b[0;34m(\u001b[0m\u001b[0mx\u001b[0m \u001b[0;34m-\u001b[0m \u001b[0;36m2\u001b[0m\u001b[0;34m,\u001b[0m\u001b[0;36m5\u001b[0m\u001b[0;34m)\u001b[0m \u001b[0;34m-\u001b[0m\u001b[0;36m2\u001b[0m\u001b[0;34m\u001b[0m\u001b[0;34m\u001b[0m\u001b[0m\n\u001b[0m\u001b[1;32m      4\u001b[0m \u001b[0mprint\u001b[0m\u001b[0;34m(\u001b[0m\u001b[0mfunção_2\u001b[0m\u001b[0;34m)\u001b[0m\u001b[0;34m\u001b[0m\u001b[0;34m\u001b[0m\u001b[0m\n\u001b[1;32m      5\u001b[0m \u001b[0mplt\u001b[0m\u001b[0;34m.\u001b[0m\u001b[0mplot\u001b[0m\u001b[0;34m(\u001b[0m\u001b[0mx\u001b[0m\u001b[0;34m,\u001b[0m \u001b[0mfunção_2\u001b[0m\u001b[0;34m,\u001b[0m \u001b[0mlabel\u001b[0m\u001b[0;34m=\u001b[0m\u001b[0;34m''\u001b[0m \u001b[0;34m,\u001b[0m\u001b[0mlinestyle\u001b[0m\u001b[0;34m=\u001b[0m\u001b[0;34m'-'\u001b[0m\u001b[0;34m,\u001b[0m \u001b[0mcolor\u001b[0m\u001b[0;34m=\u001b[0m\u001b[0;34m'red'\u001b[0m\u001b[0;34m)\u001b[0m\u001b[0;34m\u001b[0m\u001b[0;34m\u001b[0m\u001b[0m\n",
            "\u001b[0;31mTypeError\u001b[0m: return arrays must be of ArrayType"
          ]
        }
      ]
    },
    {
      "cell_type": "markdown",
      "source": [
        "Questão 3\n",
        "Usando o Sympy, ou qualquer outro recurso disponível na internet, escreva, com qualidade matemática o passo-a-passo algébrico que leva a determinação dos seguintes limites. Ao final, para cada uma das equações você deverá traçar um gráfico da função.\n",
        "\n",
        "limx→0sin(2x)x\n",
        "\n",
        "limx→∞exx3\n"
      ],
      "metadata": {
        "id": "AM4T6V7O4sDM"
      }
    },
    {
      "cell_type": "code",
      "source": [
        "sin(2*0)/0\n",
        "\n",
        "0/0"
      ],
      "metadata": {
        "id": "PM5HisEuUhSX"
      },
      "execution_count": null,
      "outputs": []
    }
  ]
}